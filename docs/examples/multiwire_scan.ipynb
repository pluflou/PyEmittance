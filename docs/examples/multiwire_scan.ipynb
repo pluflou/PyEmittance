{
 "cells": [
  {
   "cell_type": "code",
   "execution_count": 1,
   "id": "d42f27c2-676d-44af-a548-9531666931a3",
   "metadata": {},
   "outputs": [],
   "source": [
    "from pyemittance import PyEmittance\n",
    "import numpy as np"
   ]
  },
  {
   "cell_type": "code",
   "execution_count": 2,
   "id": "879b56fa-2759-4f44-9227-349f88fd23aa",
   "metadata": {},
   "outputs": [],
   "source": [
    "meas = PyEmittance(config_name=\"LCLS_WS02\")"
   ]
  },
  {
   "cell_type": "code",
   "execution_count": 3,
   "id": "dc8046f2-b673-41d6-aae5-cdc11315a44b",
   "metadata": {},
   "outputs": [],
   "source": [
    "meas.emit_calc_type = 'multiwire'"
   ]
  },
  {
   "cell_type": "code",
   "execution_count": 4,
   "id": "d5b19318-7d3c-43bd-b2d4-2af9ac430f53",
   "metadata": {},
   "outputs": [],
   "source": [
    "meas.plot = True\n",
    "meas.save_runs = True"
   ]
  },
  {
   "cell_type": "code",
   "execution_count": 5,
   "id": "003d34ba-aa3b-4614-9b0e-952d0fa90725",
   "metadata": {},
   "outputs": [
    {
     "name": "stdout",
     "output_type": "stream",
     "text": [
      "Running offline.\n",
      "Savepaths not set. Please set them in 'configs/savepaths.json'\n",
      "Using docs examples directory:  /Users/smiskov/Documents/SLAC/PyEmittance/docs/examples\n"
     ]
    }
   ],
   "source": [
    "meas.measure_emittance()"
   ]
  }
 ],
 "metadata": {
  "kernelspec": {
   "display_name": "Python 3",
   "language": "python",
   "name": "python3"
  },
  "language_info": {
   "codemirror_mode": {
    "name": "ipython",
    "version": 3
   },
   "file_extension": ".py",
   "mimetype": "text/x-python",
   "name": "python",
   "nbconvert_exporter": "python",
   "pygments_lexer": "ipython3",
   "version": "3.7.11"
  }
 },
 "nbformat": 4,
 "nbformat_minor": 5
}
