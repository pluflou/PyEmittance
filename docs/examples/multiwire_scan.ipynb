{
 "cells": [
  {
   "cell_type": "code",
   "execution_count": 1,
   "id": "d42f27c2-676d-44af-a548-9531666931a3",
   "metadata": {},
   "outputs": [],
   "source": [
    "from pyemittance import PyEmittance\n",
    "import numpy as np"
   ]
  },
  {
   "cell_type": "code",
   "execution_count": 2,
   "id": "879b56fa-2759-4f44-9227-349f88fd23aa",
   "metadata": {},
   "outputs": [],
   "source": [
    "meas = PyEmittance()"
   ]
  },
  {
   "cell_type": "code",
   "execution_count": 3,
   "id": "4c54e1bf-6760-4e7b-b1cb-73132bc86a49",
   "metadata": {},
   "outputs": [
    {
     "data": {
      "text/plain": [
       "'LCLS_OTR2'"
      ]
     },
     "execution_count": 3,
     "metadata": {},
     "output_type": "execute_result"
    }
   ],
   "source": [
    "meas.config_name"
   ]
  },
  {
   "cell_type": "code",
   "execution_count": 4,
   "id": "ba7b6620-ca98-40db-9e6d-4f7fc20526b9",
   "metadata": {},
   "outputs": [
    {
     "data": {
      "text/plain": [
       "'quadscan'"
      ]
     },
     "execution_count": 4,
     "metadata": {},
     "output_type": "execute_result"
    }
   ],
   "source": [
    "meas.emit_calc_type"
   ]
  },
  {
   "cell_type": "code",
   "execution_count": 5,
   "id": "dc8046f2-b673-41d6-aae5-cdc11315a44b",
   "metadata": {},
   "outputs": [],
   "source": [
    "meas.emit_calc_type = 'multiwire'"
   ]
  },
  {
   "cell_type": "code",
   "execution_count": 6,
   "id": "a2591e31-8daa-407b-a368-785674a08f9b",
   "metadata": {},
   "outputs": [
    {
     "data": {
      "text/plain": [
       "False"
      ]
     },
     "execution_count": 6,
     "metadata": {},
     "output_type": "execute_result"
    }
   ],
   "source": [
    "meas.online"
   ]
  },
  {
   "cell_type": "code",
   "execution_count": 7,
   "id": "003d34ba-aa3b-4614-9b0e-952d0fa90725",
   "metadata": {},
   "outputs": [
    {
     "ename": "TypeError",
     "evalue": "__init__() missing 3 required positional arguments: 'quad_meas', 'beam_meas', and 'beam_meas_err'",
     "output_type": "error",
     "traceback": [
      "\u001b[0;31m---------------------------------------------------------------------------\u001b[0m",
      "\u001b[0;31mTypeError\u001b[0m                                 Traceback (most recent call last)",
      "\u001b[0;32m<ipython-input-7-bb3ff17bc4e1>\u001b[0m in \u001b[0;36m<module>\u001b[0;34m\u001b[0m\n\u001b[0;32m----> 1\u001b[0;31m \u001b[0mmeas\u001b[0m\u001b[0;34m.\u001b[0m\u001b[0mmeasure_emittance\u001b[0m\u001b[0;34m(\u001b[0m\u001b[0;34m)\u001b[0m\u001b[0;34m\u001b[0m\u001b[0;34m\u001b[0m\u001b[0m\n\u001b[0m",
      "\u001b[0;32m~/Documents/SLAC/PyEmittance/pyemittance/__init__.py\u001b[0m in \u001b[0;36mmeasure_emittance\u001b[0;34m(self)\u001b[0m\n\u001b[1;32m     64\u001b[0m             \u001b[0mself\u001b[0m\u001b[0;34m.\u001b[0m\u001b[0mmeasure_emittance_quad_scan\u001b[0m\u001b[0;34m(\u001b[0m\u001b[0;34m)\u001b[0m\u001b[0;34m\u001b[0m\u001b[0;34m\u001b[0m\u001b[0m\n\u001b[1;32m     65\u001b[0m         \u001b[0;32melif\u001b[0m \u001b[0mself\u001b[0m\u001b[0;34m.\u001b[0m\u001b[0memit_calc_type\u001b[0m \u001b[0;34m==\u001b[0m \u001b[0;34m'multiwire'\u001b[0m\u001b[0;34m:\u001b[0m\u001b[0;34m\u001b[0m\u001b[0;34m\u001b[0m\u001b[0m\n\u001b[0;32m---> 66\u001b[0;31m             \u001b[0mself\u001b[0m\u001b[0;34m.\u001b[0m\u001b[0mmeasure_emittance_multiwire\u001b[0m\u001b[0;34m(\u001b[0m\u001b[0;34m)\u001b[0m\u001b[0;34m\u001b[0m\u001b[0;34m\u001b[0m\u001b[0m\n\u001b[0m\u001b[1;32m     67\u001b[0m         \u001b[0;32melse\u001b[0m\u001b[0;34m:\u001b[0m\u001b[0;34m\u001b[0m\u001b[0;34m\u001b[0m\u001b[0m\n\u001b[1;32m     68\u001b[0m             \u001b[0;32mraise\u001b[0m \u001b[0mException\u001b[0m\u001b[0;34m(\u001b[0m\u001b[0;34m\"Cannot perform measurement. 'emit_calc_type' needs to be 'quadscan' or 'multiwire'.\"\u001b[0m\u001b[0;34m)\u001b[0m\u001b[0;34m\u001b[0m\u001b[0;34m\u001b[0m\u001b[0m\n",
      "\u001b[0;32m~/Documents/SLAC/PyEmittance/pyemittance/__init__.py\u001b[0m in \u001b[0;36mmeasure_emittance_multiwire\u001b[0;34m(self)\u001b[0m\n\u001b[1;32m    196\u001b[0m     \u001b[0;32mdef\u001b[0m \u001b[0mmeasure_emittance_multiwire\u001b[0m\u001b[0;34m(\u001b[0m\u001b[0mself\u001b[0m\u001b[0;34m)\u001b[0m\u001b[0;34m:\u001b[0m\u001b[0;34m\u001b[0m\u001b[0;34m\u001b[0m\u001b[0m\n\u001b[1;32m    197\u001b[0m         \u001b[0;31m# get wire measurements from the observer\u001b[0m\u001b[0;34m\u001b[0m\u001b[0;34m\u001b[0m\u001b[0;34m\u001b[0m\u001b[0m\n\u001b[0;32m--> 198\u001b[0;31m         \u001b[0mo\u001b[0m \u001b[0;34m=\u001b[0m \u001b[0mObserver\u001b[0m\u001b[0;34m(\u001b[0m\u001b[0;34m)\u001b[0m\u001b[0;34m\u001b[0m\u001b[0;34m\u001b[0m\u001b[0m\n\u001b[0m\u001b[1;32m    199\u001b[0m         \u001b[0mo\u001b[0m\u001b[0;34m.\u001b[0m\u001b[0minj_config\u001b[0m \u001b[0;34m=\u001b[0m \u001b[0mself\u001b[0m\u001b[0;34m.\u001b[0m\u001b[0minj_config\u001b[0m\u001b[0;34m\u001b[0m\u001b[0;34m\u001b[0m\u001b[0m\n\u001b[1;32m    200\u001b[0m         \u001b[0mo\u001b[0m\u001b[0;34m.\u001b[0m\u001b[0monline\u001b[0m \u001b[0;34m=\u001b[0m \u001b[0mself\u001b[0m\u001b[0;34m.\u001b[0m\u001b[0monline\u001b[0m\u001b[0;34m\u001b[0m\u001b[0;34m\u001b[0m\u001b[0m\n",
      "\u001b[0;31mTypeError\u001b[0m: __init__() missing 3 required positional arguments: 'quad_meas', 'beam_meas', and 'beam_meas_err'"
     ]
    }
   ],
   "source": [
    "meas.measure_emittance()"
   ]
  },
  {
   "cell_type": "code",
   "execution_count": 14,
   "id": "541e2fc8-38ce-4f33-83f4-c0260b8d0187",
   "metadata": {},
   "outputs": [],
   "source": [
    "x_size_pv = [\"1\", \"2\", \"3\"]\n",
    "y_size_pv = [\"4\", \"5\", \"6\"]"
   ]
  },
  {
   "cell_type": "code",
   "execution_count": 15,
   "id": "762dd489-d0d1-46a2-91c0-38a48e76525e",
   "metadata": {},
   "outputs": [
    {
     "name": "stdout",
     "output_type": "stream",
     "text": [
      "1 4\n",
      "2 5\n",
      "3 6\n"
     ]
    }
   ],
   "source": [
    "    for x_pv, y_pv in zip(x_size_pv, y_size_pv):\n",
    "        # read in PVs \n",
    "        print(x_pv, y_pv)"
   ]
  },
  {
   "cell_type": "code",
   "execution_count": null,
   "id": "8d1eefd2-f9ea-4c3b-9023-c98f139e7693",
   "metadata": {},
   "outputs": [],
   "source": []
  }
 ],
 "metadata": {
  "kernelspec": {
   "display_name": "Python 3",
   "language": "python",
   "name": "python3"
  },
  "language_info": {
   "codemirror_mode": {
    "name": "ipython",
    "version": 3
   },
   "file_extension": ".py",
   "mimetype": "text/x-python",
   "name": "python",
   "nbconvert_exporter": "python",
   "pygments_lexer": "ipython3",
   "version": "3.7.11"
  }
 },
 "nbformat": 4,
 "nbformat_minor": 5
}
