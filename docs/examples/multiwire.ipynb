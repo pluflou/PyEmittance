{
 "cells": [
  {
   "cell_type": "markdown",
   "id": "5a9cdd7d-a1b9-403a-99fc-fbe9dfa63fa2",
   "metadata": {},
   "source": [
    "# multiwire scan"
   ]
  },
  {
   "cell_type": "code",
   "execution_count": 1,
   "id": "d8ca0991-cb5a-493c-87b9-31baef9698d1",
   "metadata": {},
   "outputs": [
    {
     "ename": "NameError",
     "evalue": "name 'r1' is not defined",
     "output_type": "error",
     "traceback": [
      "\u001b[0;31m---------------------------------------------------------------------------\u001b[0m",
      "\u001b[0;31mNameError\u001b[0m                                 Traceback (most recent call last)",
      "\u001b[0;32m<ipython-input-1-c48ae5b28008>\u001b[0m in \u001b[0;36m<module>\u001b[0;34m\u001b[0m\n\u001b[1;32m      1\u001b[0m \u001b[0mbeamsize_data\u001b[0m \u001b[0;34m=\u001b[0m \u001b[0;34m[\u001b[0m\u001b[0;36m12\u001b[0m\u001b[0;34m,\u001b[0m\u001b[0;36m3\u001b[0m\u001b[0;34m,\u001b[0m\u001b[0;36m4\u001b[0m\u001b[0;34m]\u001b[0m\u001b[0;34m\u001b[0m\u001b[0;34m\u001b[0m\u001b[0m\n\u001b[0;32m----> 2\u001b[0;31m \u001b[0mr_matrix_data\u001b[0m \u001b[0;34m=\u001b[0m \u001b[0;34m[\u001b[0m\u001b[0mr1\u001b[0m\u001b[0;34m,\u001b[0m \u001b[0mr2\u001b[0m\u001b[0;34m,\u001b[0m \u001b[0mr3\u001b[0m\u001b[0;34m]\u001b[0m\u001b[0;34m\u001b[0m\u001b[0;34m\u001b[0m\u001b[0m\n\u001b[0m",
      "\u001b[0;31mNameError\u001b[0m: name 'r1' is not defined"
     ]
    }
   ],
   "source": [
    "beamsize_data = [12,3,4]\n",
    "r_matrix_data = [r1, r2, r3]"
   ]
  },
  {
   "cell_type": "code",
   "execution_count": null,
   "id": "4fd61814-bd81-4580-a9f9-647e4b661f6d",
   "metadata": {},
   "outputs": [],
   "source": [
    "# WS01,WS02, WS03\n",
    "# each r matrix is different for each wire -> from the model\n",
    "# the R matrices between s0 and the dif-ferent wire scanners \n",
    "\n",
    "# FACET\n",
    "WIRE:IN20:531 \n",
    "WIRE:IN20:561 \n",
    "WIRE:IN20:611\n",
    "\n",
    "MWNames_L2 = [\"WIRE:LI11:444\",\"WIRE:LI11:614\",\"WIRE:LI11:744\",\"WIRE:LI12:214\"]\n",
    "MWNames_L3 = [\"WIRE:LI18:944\",\"WIRE:LI19:144\",\"WIRE:LI19:244\",\"WIRE:LI19:344\"]"
   ]
  },
  {
   "cell_type": "code",
   "execution_count": null,
   "id": "37d56615-86d9-4567-9c19-4f3ae7770461",
   "metadata": {},
   "outputs": [],
   "source": [
    "# LCLS\n",
    "WIRE:LI28:144\n",
    "# 06/21/2021 \t23:14 \tDecker, Saad \tEmittance WIRE:LI28:144 \n",
    " \t08/22/2022 \t06:44 \tMatlab \tEmittance WIRE:LI28:144 (CU_HXR)\n",
    "    \n",
    "    \n",
    "% Wire scanner MAD names by sector\n",
    "handles.sector.IN20.wireMADList={ ...\n",
    "    'WS01' 'WS02' 'WS03' 'WS04'};\n",
    "handles.sector.LI21.wireMADList={ ...\n",
    "    'WS11' 'WS12' 'WS13'};\n",
    "handles.sector.LI24.wireMADList={ ...\n",
    "    'WS24'};\n",
    "handles.sector.LI28.wireMADList={ ...\n",
    "%    'WS21' 'WS22' 'WS23' 'WS24' ...\n",
    "    'WS27644' 'WS28144' 'WS28444' 'WS28744'};\n",
    "handles.sector.LTUH.wireMADList={ ...\n",
    "    'WS31' 'WS32' 'WS33' 'WS34' 'WS35' 'WSVM2'};\n",
    "handles.sector.LTUS.wireMADList={ ...\n",
    "    'WS31B' 'WS32B' 'WS33B' 'WS34B'};\n",
    "handles.sector.NLCTA.wireMADList={ ...\n",
    "    ''};\n",
    "handles.sector.XT01.wireMADList={ ...\n",
    "    ''};\n",
    "handles.sector.AS01.wireMADList={ ...\n",
    "    ''};\n",
    "handles.sector.LI20.wireMADList={ ...\n",
    "    'WSIP1' 'WSIP2' 'WSIP3' 'WSIP4'};\n",
    "handles.sector.IN10.wireMADList={ ...\n",
    "    'WS10561'};\n",
    "handles.sector.LI11.wireMADList={ ...\n",
    "    'WS11444'    'WS11614'    'WS11744'    'WS12214'};\n",
    "handles.sector.LI15.wireMADList={ ...\n",
    "    ''};\n",
    "handles.sector.LI19.wireMADList={ ...\n",
    "     'WS18944'    'WS19144'    'WS19244'    'WS19344'};"
   ]
  },
  {
   "cell_type": "markdown",
   "id": "d9e699bc-28d3-4b88-8c51-1567a3c0139d",
   "metadata": {},
   "source": [
    "# Need to adapt to run multiwire with THREE or FOUR wires"
   ]
  },
  {
   "cell_type": "code",
   "execution_count": null,
   "id": "0fd7682d-1d2d-4d8c-8874-de4a6e392c90",
   "metadata": {},
   "outputs": [],
   "source": [
    "id1=findcells(BEAMLINE,'Name',wname{1});\n",
    "\n",
    "      % get the model\n",
    "      R=cell(1,nw);\n",
    "      Rx=zeros(nw,2);Ry=zeros(nw,2);\n",
    "      for n=1:nw\n",
    "        [stat,Rab]=RmatAtoB(id1,idw(n));\n",
    "        if (stat{1}~=1),error(stat{2}),end\n",
    "        R{n}=Rab(1:4,1:4);\n",
    "        Rx(n,:)=[Rab(1,1),Rab(1,2)];\n",
    "        Ry(n,:)=[Rab(3,3),Rab(3,4)];"
   ]
  },
  {
   "cell_type": "code",
   "execution_count": null,
   "id": "68c3caa4-a357-4611-af89-da76d7d8b4bf",
   "metadata": {},
   "outputs": [],
   "source": [
    "# for bmag\n",
    "# design twiss for first wire from live model too\n",
    "\n",
    "      % get design Twiss at first wire\n",
    "      energy=BEAMLINE{id1}.P;\n",
    "      egamma = energy/0.51099906e-3;\n",
    "      if dim==\"X\"\n",
    "        bx0 = obj.LiveModel.DesignTwiss.betax(id1) ;\n",
    "        ax0 = obj.LiveModel.DesignTwiss.alphax(id1) ;\n",
    "      else\n",
    "        bx0 = obj.LiveModel.DesignTwiss.betay(id1);\n",
    "        ax0 = obj.LiveModel.DesignTwiss.alphay(id1);"
   ]
  },
  {
   "cell_type": "code",
   "execution_count": null,
   "id": "4b1a3132-febb-4ef9-ad52-1f6818de55f7",
   "metadata": {},
   "outputs": [],
   "source": [
    "RmatAtoB(wire1, wire1) = 6x6 unitary matrix"
   ]
  }
 ],
 "metadata": {
  "kernelspec": {
   "display_name": "Python 3",
   "language": "python",
   "name": "python3"
  },
  "language_info": {
   "codemirror_mode": {
    "name": "ipython",
    "version": 3
   },
   "file_extension": ".py",
   "mimetype": "text/x-python",
   "name": "python",
   "nbconvert_exporter": "python",
   "pygments_lexer": "ipython3",
   "version": "3.7.11"
  }
 },
 "nbformat": 4,
 "nbformat_minor": 5
}
